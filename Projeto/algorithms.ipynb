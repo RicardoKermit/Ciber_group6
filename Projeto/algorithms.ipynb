{
 "cells": [
  {
   "cell_type": "markdown",
   "metadata": {},
   "source": [
    "# Importações"
   ]
  },
  {
   "cell_type": "code",
   "execution_count": 37,
   "metadata": {},
   "outputs": [],
   "source": [
    "import pandas as pd\n",
    "import seaborn as sns\n",
    "import matplotlib.pyplot as plt\n",
    "from sklearn.preprocessing import LabelEncoder\n",
    "import numpy as np\n",
    "from scipy.stats import zscore\n",
    "from sklearn.preprocessing import StandardScaler\n",
    "from sklearn.model_selection import train_test_split, RandomizedSearchCV\n",
    "from sklearn.linear_model import LogisticRegression\n",
    "from sklearn.metrics import accuracy_score, confusion_matrix\n",
    "from sklearn.metrics import confusion_matrix, classification_report\n",
    "from sklearn.pipeline import Pipeline\n",
    "from scipy.stats import uniform\n",
    "from datetime import datetime\n",
    "import csv\n"
   ]
  },
  {
   "cell_type": "markdown",
   "metadata": {},
   "source": [
    "## Ler Ficheiro e divisão dos dados"
   ]
  },
  {
   "cell_type": "code",
   "execution_count": 38,
   "metadata": {},
   "outputs": [],
   "source": [
    "data_url = 'Datasets/total_treated.csv'\n",
    "\n",
    "# Read the dataset using pandas\n",
    "data = pd.read_csv(data_url, delimiter=';', header=0, encoding='utf-8')\n",
    "\n",
    "# Dividir os dados em features e target\n",
    "X = data.drop(columns=['label'])\n",
    "y = data['label']\n",
    "\n",
    "# Dividir os dados em conjunto de treinamento e teste\n",
    "X_train, X_test, y_train, y_test = train_test_split(X, y, test_size=0.2, random_state=42)\n"
   ]
  },
  {
   "cell_type": "markdown",
   "metadata": {},
   "source": [
    "## Regressão Logística"
   ]
  },
  {
   "cell_type": "code",
   "execution_count": 39,
   "metadata": {},
   "outputs": [
    {
     "name": "stdout",
     "output_type": "stream",
     "text": [
      "Fitting 5 folds for each of 10 candidates, totalling 50 fits\n",
      "Matriz de Confusão (Teste):\n",
      "[[3994    2]\n",
      " [   0 4783]]\n",
      "\n",
      "Matriz de Confusão (Treino):\n",
      "[[16021     1]\n",
      " [    1 19093]]\n",
      "\n",
      "Relatório de Classificação (Teste):\n",
      "              precision    recall  f1-score   support\n",
      "\n",
      "         0.0       1.00      1.00      1.00      3996\n",
      "         1.0       1.00      1.00      1.00      4783\n",
      "\n",
      "    accuracy                           1.00      8779\n",
      "   macro avg       1.00      1.00      1.00      8779\n",
      "weighted avg       1.00      1.00      1.00      8779\n",
      "\n",
      "\n",
      "Acurácia (Teste): 0.9997721836200023\n",
      "\n",
      "Relatório de Classificação (Treino):\n",
      "              precision    recall  f1-score   support\n",
      "\n",
      "         0.0       1.00      1.00      1.00     16022\n",
      "         1.0       1.00      1.00      1.00     19094\n",
      "\n",
      "    accuracy                           1.00     35116\n",
      "   macro avg       1.00      1.00      1.00     35116\n",
      "weighted avg       1.00      1.00      1.00     35116\n",
      "\n",
      "\n",
      "Acurácia (Treino): 0.9999430459050006\n",
      "\n",
      "Tempo de execução: 0:01:23.705450\n"
     ]
    },
    {
     "data": {
      "image/png": "[encoded data removed]",
      "text/plain": [
       "<Figure size 800x600 with 2 Axes>"
      ]
     },
     "metadata": {},
     "output_type": "display_data"
    }
   ],
   "source": [
    "# Função para plotar a matriz de confusão\n",
    "def plot_confusion_matrix(matrix, title='Matriz de Confusão', cmap=plt.cm.Blues):\n",
    "    plt.figure(figsize=(8, 6))\n",
    "    sns.heatmap(matrix, annot=True, fmt='d', cmap=cmap)\n",
    "    plt.title(title)\n",
    "    plt.xlabel('Valores Previstos')\n",
    "    plt.ylabel('Valores Reais')\n",
    "    plt.show()\n",
    "\n",
    "# Definir os hiperparâmetros para otimizar\n",
    "param_grid = {\n",
    "    'C': [0.001, 0.01, 0.1, 1, 10, 100],\n",
    "    'penalty': ['l1', 'l2'],\n",
    "    'solver': ['liblinear', 'saga']\n",
    "}\n",
    "\n",
    "# Criar o modelo de regressão logística\n",
    "log_reg = LogisticRegression(max_iter=1000)\n",
    "\n",
    "# Criar o objeto RandomizedSearchCV\n",
    "random_search = RandomizedSearchCV(estimator=log_reg, param_distributions=param_grid, n_iter=10, cv=5, verbose=2, random_state=42, n_jobs=-1)\n",
    "\n",
    "# Treinar o modelo usando RandomizedSearchCV\n",
    "start_time = datetime.now()\n",
    "random_search.fit(X_train, y_train)\n",
    "end_time = datetime.now()\n",
    "execution_time = end_time - start_time\n",
    "\n",
    "# Obter os melhores parâmetros\n",
    "best_params = random_search.best_params_\n",
    "\n",
    "# Obter as previsões para o conjunto de teste\n",
    "y_pred = random_search.predict(X_test)\n",
    "\n",
    "# Obter as previsões para o conjunto de treino\n",
    "y_pred_train = random_search.predict(X_train)\n",
    "\n",
    "# Calcular a matriz de confusão para o conjunto de teste e de treino\n",
    "conf_matrix_test = confusion_matrix(y_test, y_pred)\n",
    "conf_matrix_train = confusion_matrix(y_train, y_pred_train)\n",
    "\n",
    "# Calcular as métricas para o conjunto de teste\n",
    "report_test = classification_report(y_test, y_pred)\n",
    "accuracy_test = accuracy_score(y_test, y_pred)\n",
    "\n",
    "# Calcular as métricas para o conjunto de treino\n",
    "report_train = classification_report(y_train, y_pred_train)\n",
    "accuracy_train = accuracy_score(y_train, y_pred_train)\n",
    "\n",
    "# Imprimir os resultados\n",
    "print(\"Matriz de Confusão (Teste):\")\n",
    "print(conf_matrix_test)\n",
    "print(\"\\nMatriz de Confusão (Treino):\")\n",
    "print(conf_matrix_train)\n",
    "\n",
    "print(\"\\nRelatório de Classificação (Teste):\")\n",
    "print(report_test)\n",
    "print(\"\\nAcurácia (Teste):\", accuracy_test)\n",
    "\n",
    "print(\"\\nRelatório de Classificação (Treino):\")\n",
    "print(report_train)\n",
    "print(\"\\nAcurácia (Treino):\", accuracy_train)\n",
    "\n",
    "print(\"\\nTempo de execução:\", execution_time)\n",
    "\n",
    "# Plotar a matriz de confusão para o conjunto de teste\n",
    "plot_confusion_matrix(conf_matrix_test, title='Matriz de Confusão (Teste)')"
   ]
  },
  {
   "cell_type": "markdown",
   "metadata": {},
   "source": [
    "### Gerar Excel para regressão logistica"
   ]
  },
  {
   "cell_type": "code",
   "execution_count": 40,
   "metadata": {},
   "outputs": [
    {
     "name": "stdout",
     "output_type": "stream",
     "text": [
      "ww\n",
      "ee\n"
     ]
    }
   ],
   "source": [
    "from openpyxl import Workbook, load_workbook\n",
    "from openpyxl.styles import Border, Side, PatternFill\n",
    "\n",
    "filename=\"Results/regressao_l.xlsx\"\n",
    "\n",
    "try:\n",
    "    print(\"ww\")\n",
    "    # Carrega o arquivo Excel existente\n",
    "    wb = load_workbook(filename)\n",
    "    ws = wb.active\n",
    "\n",
    "    # Encontra a próxima linha vazia na planilha\n",
    "    next_row = ws.max_row + 2\n",
    "\n",
    "    \n",
    "except FileNotFoundError:\n",
    "    print(\"ee\")"
   ]
  }
 ],
 "metadata": {
  "kernelspec": {
   "display_name": "Python 3",
   "language": "python",
   "name": "python3"
  },
  "language_info": {
   "codemirror_mode": {
    "name": "ipython",
    "version": 3
   },
   "file_extension": ".py",
   "mimetype": "text/x-python",
   "name": "python",
   "nbconvert_exporter": "python",
   "pygments_lexer": "ipython3",
   "version": "3.12.1"
  }
 },
 "nbformat": 4,
 "nbformat_minor": 2
}
