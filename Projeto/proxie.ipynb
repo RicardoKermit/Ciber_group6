{
 "cells": [
  {
   "cell_type": "code",
   "execution_count": null,
   "metadata": {},
   "outputs": [],
   "source": [
    "import requests\n",
    "\n",
    "proxies = {\n",
    "  'http': 'http://50.222.245.42:80',\n",
    "}\n",
    "\n",
    "print(requests.get('https://ipinfo.io/129.69.8.19/json', proxies=proxies))"
   ]
  },
  {
   "cell_type": "code",
   "execution_count": null,
   "metadata": {},
   "outputs": [],
   "source": [
    "import requests\n",
    "from lxml.html import fromstring\n",
    "def get_proxies():\n",
    "    url = 'https://free-proxy-list.net/'\n",
    "    response = requests.get(url)\n",
    "    parser = fromstring(response.text)\n",
    "    proxies = set()\n",
    "    for i in parser.xpath('//tbody/tr')[:10]:\n",
    "        if i.xpath('.//td[7][contains(text(),\"yes\")]'):\n",
    "            #Grabbing IP and corresponding PORT\n",
    "            proxy = \":\".join([i.xpath('.//td[1]/text()')[0], i.xpath('.//td[2]/text()')[0]])\n",
    "            proxies.add(proxy)\n",
    "    return proxies\n",
    "\n",
    "proxies = get_proxies()\n",
    "print(proxies)"
   ]
  },
  {
   "cell_type": "code",
   "execution_count": null,
   "metadata": {},
   "outputs": [],
   "source": [
    "import IP2Location, os\n",
    "\n",
    "'''\n",
    "    Cache the database into memory to accelerate lookup speed.\n",
    "    WARNING: Please make sure your system have sufficient RAM to use this feature.\n",
    "'''\n",
    "# database = IP2Location.IP2Location(os.path.join(\"data\", \"IPV6-COUNTRY.BIN\"), \"SHARED_MEMORY\")\n",
    "database = IP2Location.IP2Location(os.path.join(\"data\", \"IP-COUNTRY-REGION-CITY-LATITUDE-LONGITUDE-ZIPCODE-TIMEZONE-ISP-DOMAIN-NETSPEED-AREACODE-WEATHER-MOBILE-ELEVATION-USAGETYPE-ADDRESSTYPE-CATEGORY-DISTRICT-ASN-SAMPLE.BIN\"))\n",
    "rec = database.get_all(\"19.5.10.1\")\n",
    "\n",
    "print(\"Country Code          : \" + rec.country_short)\n",
    "print(\"Country Name          : \" + rec.country_long)\n",
    "print(\"Region Name           : \" + rec.region)\n",
    "print(\"City Name             : \" + rec.city)\n",
    "print(\"ISP Name              : \" + rec.isp)\n",
    "print(\"Latitude              : \" + rec.latitude)\n",
    "print(\"Longitude             : \" + rec.longitude)\n",
    "print(\"Domain Name           : \" + rec.domain)\n",
    "print(\"ZIP Code              : \" + rec.zipcode)\n",
    "print(\"Time Zone             : \" + rec.timezone)\n",
    "print(\"Net Speed             : \" + rec.netspeed)\n",
    "print(\"Area Code             : \" + rec.idd_code)\n",
    "print(\"IDD Code              : \" + rec.area_code)\n",
    "print(\"Weather Station Code  : \" + rec.weather_code)\n",
    "print(\"Weather Station Name  : \" + rec.weather_name)\n",
    "print(\"MCC                   : \" + rec.mcc)\n",
    "print(\"MNC                   : \" + rec.mnc)\n",
    "print(\"Mobile Carrier        : \" + rec.mobile_brand)\n",
    "print(\"Elevation             : \" + rec.elevation)\n",
    "print(\"Usage Type            : \" + rec.usage_type)\n",
    "print(\"Address Type          : \" + rec.address_type)\n",
    "print(\"Category              : \" + rec.category)\n",
    "print(\"District              : \" + rec.district)\n",
    "print(\"ASN                   : \" + rec.asn)\n",
    "print(\"AS                    : \" + rec.as_name)"
   ]
  },
  {
   "cell_type": "code",
   "execution_count": 18,
   "metadata": {},
   "outputs": [
    {
     "name": "stdout",
     "output_type": "stream",
     "text": [
      "{\"country_code\":\"US\",\"country_name\":\"United States\",\"city\":null,\"postal\":null,\"latitude\":37.751,\"longitude\":-97.822,\"IPv4\":\"8.8.8.8\",\"state\":null}\n"
     ]
    }
   ],
   "source": [
    "import urllib.request\n",
    "import json\n",
    "\n",
    "with urllib.request.urlopen(\"https://geolocation-db.com/jsonp/8.8.8.8\") as url:\n",
    "    data = url.read().decode()\n",
    "    data = data.split(\"(\")[1].strip(\")\")\n",
    "    print(data)"
   ]
  }
 ],
 "metadata": {
  "kernelspec": {
   "display_name": "Python 3",
   "language": "python",
   "name": "python3"
  },
  "language_info": {
   "codemirror_mode": {
    "name": "ipython",
    "version": 3
   },
   "file_extension": ".py",
   "mimetype": "text/x-python",
   "name": "python",
   "nbconvert_exporter": "python",
   "pygments_lexer": "ipython3",
   "version": "3.12.1"
  }
 },
 "nbformat": 4,
 "nbformat_minor": 2
}
