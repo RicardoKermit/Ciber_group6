{
 "cells": [
  {
   "cell_type": "markdown",
   "metadata": {},
   "source": [
    "# Importações e funções"
   ]
  },
  {
   "cell_type": "code",
   "execution_count": 62,
   "metadata": {
    "jupyter": {
     "is_executing": true
    }
   },
   "outputs": [],
   "source": [
    "import pandas as pd\n",
    "import socket\n",
    "import requests\n",
    "import dns.resolver\n",
    "import time\n",
    "\n",
    "# Função para obter o IP de um domínio\n",
    "def get_ip(domain):\n",
    "    try:\n",
    "        return socket.gethostbyname(domain)\n",
    "    except Exception as e:\n",
    "        return None\n",
    "\n",
    "# Função para obter a localização do IP usando a API ipinfo.io\n",
    "def get_location(ip):\n",
    "    if ip:\n",
    "        try:\n",
    "            response = requests.get(f'https://ipinfo.io/{ip}/json')\n",
    "            data = response.json()\n",
    "            print(\"Aqui\",data)\n",
    "            loc = data.get('loc', '').split(',')\n",
    "            latitude = loc[0] if len(loc) > 0 else ''\n",
    "            longitude = loc[1] if len(loc) > 1 else ''\n",
    "            return {\n",
    "                'city': data.get('city', ''),\n",
    "                'region': data.get('region', ''),\n",
    "                'country': data.get('country', ''),\n",
    "                'org': data.get('org', ''),\n",
    "                'postal': data.get('postal', ''),\n",
    "                'timezone': data.get('timezone', ''),\n",
    "                'hostname': data.get('hostname', ''),\n",
    "                'latitude': latitude,\n",
    "                'longitude': longitude,\n",
    "            }\n",
    "        except Exception as e:\n",
    "            return {\n",
    "                'city': '',\n",
    "                'region': '',\n",
    "                'country': '',\n",
    "                'org': '',\n",
    "                'postal': '',\n",
    "                'timezone': '',\n",
    "                'hostname': '',\n",
    "                'latitude': '',\n",
    "                'longitude': '',\n",
    "            }\n",
    "    return {\n",
    "        'city': '',\n",
    "        'region': '',\n",
    "        'country': '',\n",
    "        'org': '',\n",
    "        'postal': '',\n",
    "        'timezone': '',\n",
    "        'hostname': '',\n",
    "        'latitude': '',\n",
    "        'longitude': '',\n",
    "    }\n",
    "\n",
    "# Função para obter o DNS reverso de um IP\n",
    "def get_reverse_dns(ip):\n",
    "    if ip:\n",
    "        try:\n",
    "            return socket.gethostbyaddr(ip)[0]\n",
    "        except Exception as e:\n",
    "            return None\n",
    "    return None\n",
    "\n",
    "# Função para obter o número de registros DNS de um IP\n",
    "def get_dns_count(ip):\n",
    "    if ip:\n",
    "        try:\n",
    "            answers = dns.resolver.resolve(ip, 'A')\n",
    "            return len(answers)\n",
    "        except Exception as e:\n",
    "            return 0\n",
    "    return 0\n",
    "\n",
    "\n",
    "\n",
    "\n"
   ]
  },
  {
   "cell_type": "markdown",
   "metadata": {},
   "source": [
    "# Ler dataset"
   ]
  },
  {
   "cell_type": "code",
   "execution_count": 63,
   "metadata": {},
   "outputs": [],
   "source": [
    "'''\n",
    "Já corridos: \n",
    "    -dataset1_block6\n",
    "\n",
    "A correr:\n",
    "    -teste\n",
    "'''\n",
    "# Carregar o dataset\n",
    "df = pd.read_csv('Datasets/teste.csv', delimiter=';')\n"
   ]
  },
  {
   "cell_type": "markdown",
   "metadata": {},
   "source": [
    "# Linhas em que a label não se encontra preenchida"
   ]
  },
  {
   "cell_type": "code",
   "execution_count": 64,
   "metadata": {},
   "outputs": [
    {
     "name": "stdout",
     "output_type": "stream",
     "text": [
      "label\n",
      "1.0    6\n",
      "0.0    3\n",
      "Name: count, dtype: int64\n"
     ]
    },
    {
     "name": "stderr",
     "output_type": "stream",
     "text": [
      "C:\\Users\\PC\\AppData\\Local\\Temp\\ipykernel_22176\\2910599684.py:2: FutureWarning: A value is trying to be set on a copy of a DataFrame or Series through chained assignment using an inplace method.\n",
      "The behavior will change in pandas 3.0. This inplace method will never work because the intermediate object on which we are setting values always behaves as a copy.\n",
      "\n",
      "For example, when doing 'df[col].method(value, inplace=True)', try using 'df.method({col: value}, inplace=True)' or df[col] = df[col].method(value) instead, to perform the operation inplace on the original object.\n",
      "\n",
      "\n",
      "  df['label'].fillna(-1, inplace=True)\n"
     ]
    }
   ],
   "source": [
    "# Substituir valores vazios na coluna \"label\" por -1\n",
    "df['label'].fillna(-1, inplace=True)\n",
    "\n",
    "# Contar os valores únicos na coluna \"label\"\n",
    "label_counts = df['label'].value_counts()\n",
    "print(label_counts)\n",
    "\n",
    "# Encontrar os índices das linhas com valor -1 na coluna \"label\"\n",
    "indices_to_drop = df[df['label'] == -1].index\n",
    "\n",
    "# Remover as linhas com valor -1 na coluna \"label\"\n",
    "df.drop(indices_to_drop, inplace=True)"
   ]
  },
  {
   "cell_type": "markdown",
   "metadata": {},
   "source": [
    "# Reverse module DNS"
   ]
  },
  {
   "cell_type": "code",
   "execution_count": 65,
   "metadata": {},
   "outputs": [
    {
     "name": "stdout",
     "output_type": "stream",
     "text": [
      "Aqui {'ip': '23.92.184.225', 'hostname': 'vista3-225.percepticon.net', 'city': 'Walnut Creek', 'region': 'California', 'country': 'US', 'loc': '37.9182,-122.0717', 'org': 'AS12182 Unitas Global', 'postal': '94597', 'timezone': 'America/Los_Angeles', 'readme': 'https://ipinfo.io/missingauth'}\n",
      "Aqui {'ip': '35.215.94.21', 'hostname': '21.94.215.35.bc.googleusercontent.com', 'city': 'Los Angeles', 'region': 'California', 'country': 'US', 'loc': '34.0522,-118.2437', 'org': 'AS15169 Google LLC', 'postal': '90009', 'timezone': 'America/Los_Angeles', 'readme': 'https://ipinfo.io/missingauth'}\n",
      "Aqui {'ip': '52.219.137.15', 'hostname': 's3-website-ap-northeast-1.amazonaws.com', 'city': 'Tokyo', 'region': 'Tokyo', 'country': 'JP', 'loc': '35.6895,139.6917', 'org': 'AS16509 Amazon.com, Inc.', 'postal': '101-8656', 'timezone': 'Asia/Tokyo', 'readme': 'https://ipinfo.io/missingauth'}\n",
      "Aqui {'ip': '170.249.195.51', 'hostname': 'shared001a.rfehost.com', 'city': 'Atlanta', 'region': 'Georgia', 'country': 'US', 'loc': '33.7490,-84.3880', 'org': 'AS63410 PrivateSystems Networks', 'postal': '30302', 'timezone': 'America/New_York', 'readme': 'https://ipinfo.io/missingauth'}\n",
      "Aqui {'ip': '169.50.183.149', 'hostname': '95.b7.32a9.ip4.static.sl-reverse.com', 'city': 'Amsterdam', 'region': 'North Holland', 'country': 'NL', 'loc': '52.3740,4.8897', 'org': 'AS36351 SoftLayer Technologies Inc.', 'postal': '1012', 'timezone': 'Europe/Amsterdam', 'readme': 'https://ipinfo.io/missingauth'}\n",
      "Aqui {'ip': '34.138.72.127', 'hostname': '127.72.138.34.bc.googleusercontent.com', 'city': 'North Charleston', 'region': 'South Carolina', 'country': 'US', 'loc': '32.8546,-79.9748', 'org': 'AS396982 Google LLC', 'postal': '29415', 'timezone': 'America/New_York', 'readme': 'https://ipinfo.io/missingauth'}\n",
      "Aqui {'ip': '104.21.23.38', 'anycast': True, 'city': 'San Francisco', 'region': 'California', 'country': 'US', 'loc': '37.7621,-122.3971', 'org': 'AS13335 Cloudflare, Inc.', 'postal': '94107', 'timezone': 'America/Los_Angeles', 'readme': 'https://ipinfo.io/missingauth'}\n",
      "                                 URL  URLLength                     Domain  \\\n",
      "0  https://www.theedwinblackshow.com       32.0  www.theedwinblackshow.com   \n",
      "1          https://www.prcouture.com       24.0          www.prcouture.com   \n",
      "2     http://www.blue.blocktrail.com       29.0    www.blue.blocktrail.com   \n",
      "3        https://www.alifeexotic.com       26.0        www.alifeexotic.com   \n",
      "4  https://itaucardfaturadigital.app       32.0  itaucardfaturadigital.app   \n",
      "\n",
      "   DomainLength  IsDomainIP  TLD  URLSimilarityIndex  CharContinuationRate  \\\n",
      "0          25.0         0.0  com          100.000000              1.000000   \n",
      "1          17.0         0.0  com          100.000000              1.000000   \n",
      "2          23.0         0.0  com           88.753463              0.733333   \n",
      "3          19.0         0.0  com          100.000000              1.000000   \n",
      "4          25.0         0.0  app           47.950769              1.000000   \n",
      "\n",
      "   TLDLegitimateProb  URLCharProb  ...  n_dns          City      Region  \\\n",
      "0           0.522907     0.053883  ...      0  Walnut Creek  California   \n",
      "1           0.522907     0.064356  ...      0   Los Angeles  California   \n",
      "2           0.522907     0.057749  ...      0         Tokyo       Tokyo   \n",
      "3           0.522907     0.065687  ...      0       Atlanta     Georgia   \n",
      "4           0.001502     0.055479  ...      0                             \n",
      "\n",
      "   Country                              Org    Postal             Timezone  \\\n",
      "0       US            AS12182 Unitas Global     94597  America/Los_Angeles   \n",
      "1       US               AS15169 Google LLC     90009  America/Los_Angeles   \n",
      "2       JP         AS16509 Amazon.com, Inc.  101-8656           Asia/Tokyo   \n",
      "3       US  AS63410 PrivateSystems Networks     30302     America/New_York   \n",
      "4                                                                            \n",
      "\n",
      "                                  Hostname  Latitude  Longitude  \n",
      "0               vista3-225.percepticon.net   37.9182  -122.0717  \n",
      "1    21.94.215.35.bc.googleusercontent.com   34.0522  -118.2437  \n",
      "2  s3-website-ap-northeast-1.amazonaws.com   35.6895   139.6917  \n",
      "3                   shared001a.rfehost.com   33.7490   -84.3880  \n",
      "4                                                                \n",
      "\n",
      "[5 rows x 68 columns]\n"
     ]
    },
    {
     "name": "stderr",
     "output_type": "stream",
     "text": [
      "C:\\Users\\PC\\AppData\\Local\\Temp\\ipykernel_22176\\2502156027.py:14: FutureWarning: Setting an item of incompatible dtype is deprecated and will raise in a future error of pandas. Value '['Walnut Creek' 'Los Angeles' 'Tokyo' 'Atlanta' '' 'Amsterdam' ''\n",
      " 'North Charleston' 'San Francisco']' has dtype incompatible with float64, please explicitly cast to a compatible dtype first.\n",
      "  df.loc[i:i+100, 'City'] = location_data.apply(lambda loc: loc['city'])\n",
      "C:\\Users\\PC\\AppData\\Local\\Temp\\ipykernel_22176\\2502156027.py:15: FutureWarning: Setting an item of incompatible dtype is deprecated and will raise in a future error of pandas. Value '['California' 'California' 'Tokyo' 'Georgia' '' 'North Holland' ''\n",
      " 'South Carolina' 'California']' has dtype incompatible with float64, please explicitly cast to a compatible dtype first.\n",
      "  df.loc[i:i+100, 'Region'] = location_data.apply(lambda loc: loc['region'])\n",
      "C:\\Users\\PC\\AppData\\Local\\Temp\\ipykernel_22176\\2502156027.py:16: FutureWarning: Setting an item of incompatible dtype is deprecated and will raise in a future error of pandas. Value '['US' 'US' 'JP' 'US' '' 'NL' '' 'US' 'US']' has dtype incompatible with float64, please explicitly cast to a compatible dtype first.\n",
      "  df.loc[i:i+100, 'Country'] = location_data.apply(lambda loc: loc['country'])\n",
      "C:\\Users\\PC\\AppData\\Local\\Temp\\ipykernel_22176\\2502156027.py:17: FutureWarning: Setting an item of incompatible dtype is deprecated and will raise in a future error of pandas. Value '['AS12182 Unitas Global' 'AS15169 Google LLC' 'AS16509 Amazon.com, Inc.'\n",
      " 'AS63410 PrivateSystems Networks' ''\n",
      " 'AS36351 SoftLayer Technologies Inc.' '' 'AS396982 Google LLC'\n",
      " 'AS13335 Cloudflare, Inc.']' has dtype incompatible with float64, please explicitly cast to a compatible dtype first.\n",
      "  df.loc[i:i+100, 'Org'] = location_data.apply(lambda loc: loc['org'])\n",
      "C:\\Users\\PC\\AppData\\Local\\Temp\\ipykernel_22176\\2502156027.py:18: FutureWarning: Setting an item of incompatible dtype is deprecated and will raise in a future error of pandas. Value '['94597' '90009' '101-8656' '30302' '' '1012' '' '29415' '94107']' has dtype incompatible with float64, please explicitly cast to a compatible dtype first.\n",
      "  df.loc[i:i+100, 'Postal'] = location_data.apply(lambda loc: loc['postal'])\n",
      "C:\\Users\\PC\\AppData\\Local\\Temp\\ipykernel_22176\\2502156027.py:19: FutureWarning: Setting an item of incompatible dtype is deprecated and will raise in a future error of pandas. Value '['America/Los_Angeles' 'America/Los_Angeles' 'Asia/Tokyo'\n",
      " 'America/New_York' '' 'Europe/Amsterdam' '' 'America/New_York'\n",
      " 'America/Los_Angeles']' has dtype incompatible with float64, please explicitly cast to a compatible dtype first.\n",
      "  df.loc[i:i+100, 'Timezone'] = location_data.apply(lambda loc: loc['timezone'])\n",
      "C:\\Users\\PC\\AppData\\Local\\Temp\\ipykernel_22176\\2502156027.py:20: FutureWarning: Setting an item of incompatible dtype is deprecated and will raise in a future error of pandas. Value '['vista3-225.percepticon.net' '21.94.215.35.bc.googleusercontent.com'\n",
      " 's3-website-ap-northeast-1.amazonaws.com' 'shared001a.rfehost.com' ''\n",
      " '95.b7.32a9.ip4.static.sl-reverse.com' ''\n",
      " '127.72.138.34.bc.googleusercontent.com' '']' has dtype incompatible with float64, please explicitly cast to a compatible dtype first.\n",
      "  df.loc[i:i+100, 'Hostname'] = location_data.apply(lambda loc: loc['hostname'])\n",
      "C:\\Users\\PC\\AppData\\Local\\Temp\\ipykernel_22176\\2502156027.py:21: FutureWarning: Setting an item of incompatible dtype is deprecated and will raise in a future error of pandas. Value '['37.9182' '34.0522' '35.6895' '33.7490' '' '52.3740' '' '32.8546'\n",
      " '37.7621']' has dtype incompatible with float64, please explicitly cast to a compatible dtype first.\n",
      "  df.loc[i:i+100, 'Latitude'] = location_data.apply(lambda loc: loc['latitude'])\n",
      "C:\\Users\\PC\\AppData\\Local\\Temp\\ipykernel_22176\\2502156027.py:22: FutureWarning: Setting an item of incompatible dtype is deprecated and will raise in a future error of pandas. Value '['-122.0717' '-118.2437' '139.6917' '-84.3880' '' '4.8897' '' '-79.9748'\n",
      " '-122.3971']' has dtype incompatible with float64, please explicitly cast to a compatible dtype first.\n",
      "  df.loc[i:i+100, 'Longitude'] = location_data.apply(lambda loc: loc['longitude'])\n"
     ]
    }
   ],
   "source": [
    "# Adicionar contador para pausar a cada 100 registros\n",
    "for i in range(0, len(df), 100):\n",
    "    # Processar blocos de 100 registros\n",
    "    chunk = df.iloc[i:i+100]\n",
    "\n",
    "    # Adicionar colunas para armazenar IP, DNS, Reverse DNS e número de DNS\n",
    "    chunk['IP'] = chunk['URL'].apply(lambda url: get_ip(url.split('//')[1]))\n",
    "    chunk['DNS'] = chunk['URL'].apply(lambda url: url.split('//')[1])\n",
    "    chunk['Reverse DNS'] = chunk['IP'].apply(get_reverse_dns)\n",
    "    chunk['n_dns'] = chunk['IP'].apply(get_dns_count)\n",
    "\n",
    "    # Obter informações de localização e adicionar colunas separadas\n",
    "    location_data = chunk['IP'].apply(get_location)\n",
    "    df.loc[i:i+100, 'City'] = location_data.apply(lambda loc: loc['city'])\n",
    "    df.loc[i:i+100, 'Region'] = location_data.apply(lambda loc: loc['region'])\n",
    "    df.loc[i:i+100, 'Country'] = location_data.apply(lambda loc: loc['country'])\n",
    "    df.loc[i:i+100, 'Org'] = location_data.apply(lambda loc: loc['org'])\n",
    "    df.loc[i:i+100, 'Postal'] = location_data.apply(lambda loc: loc['postal'])\n",
    "    df.loc[i:i+100, 'Timezone'] = location_data.apply(lambda loc: loc['timezone'])\n",
    "    df.loc[i:i+100, 'Hostname'] = location_data.apply(lambda loc: loc['hostname'])\n",
    "    df.loc[i:i+100, 'Latitude'] = location_data.apply(lambda loc: loc['latitude'])\n",
    "    df.loc[i:i+100, 'Longitude'] = location_data.apply(lambda loc: loc['longitude'])\n",
    "\n",
    "    if i > 0 and i % 100 == 0:\n",
    "        print(f\"Processed {i} records. Sleeping for 60 seconds...\")\n",
    "        time.sleep(60)\n",
    "\n",
    "    # Removing unnamed columns using drop function\n",
    "df.drop(df.columns[df.columns.str.contains('Unnamed', case=False)], axis=1, inplace=True)\n",
    "\n",
    "# Salvar o resultado em um novo arquivo CSV\n",
    "df.to_csv('teste_reverse_dns.csv', index=False,sep=';')\n",
    "\n",
    "# Exibir o DataFrame\n",
    "print(df.head())"
   ]
  },
  {
   "cell_type": "markdown",
   "metadata": {},
   "source": [
    "### Código que não é usado"
   ]
  },
  {
   "cell_type": "code",
   "execution_count": 66,
   "metadata": {},
   "outputs": [
    {
     "data": {
      "text/plain": [
       "\" import pandas as pd\\nfrom sklearn.model_selection import train_test_split\\n\\n# Carregar o dataset\\ndf = pd.read_csv('PhishingDataset.csv', delimiter='')\\n\\n# Converter todas as colunas para strings\\ndf = df.astype(str)\\n\\n# Dividir o dataset em dois novos datasets (50% e 50%)\\ndf1, df2 = train_test_split(df, test_size=0.5, random_state=42)\\n\\n# Salvar os dois novos datasets em arquivos CSV separados\\ndf1.to_csv('dataset1.csv', index=False,sep=';')\\ndf2.to_csv('dataset2.csv', index=False,sep=';') \""
      ]
     },
     "execution_count": 66,
     "metadata": {},
     "output_type": "execute_result"
    }
   ],
   "source": [
    "\"\"\" import pandas as pd\n",
    "from sklearn.model_selection import train_test_split\n",
    "\n",
    "# Carregar o dataset\n",
    "df = pd.read_csv('PhishingDataset.csv', delimiter='')\n",
    "\n",
    "# Converter todas as colunas para strings\n",
    "df = df.astype(str)\n",
    "\n",
    "# Dividir o dataset em dois novos datasets (50% e 50%)\n",
    "df1, df2 = train_test_split(df, test_size=0.5, random_state=42)\n",
    "\n",
    "# Salvar os dois novos datasets em arquivos CSV separados\n",
    "df1.to_csv('dataset1.csv', index=False,sep=';')\n",
    "df2.to_csv('dataset2.csv', index=False,sep=';') \"\"\"\n"
   ]
  },
  {
   "cell_type": "code",
   "execution_count": 67,
   "metadata": {},
   "outputs": [
    {
     "data": {
      "text/plain": [
       "\" import pandas as pd\\n\\n# Carregar o dataset com delimitador ';'\\ndf = pd.read_csv('Datasets/dataset1.csv', delimiter=';')\\n\\n# Calcular o número de linhas em 20% do dataset\\nn = len(df)\\nblock_size = int(n * 0.2)\\n\\n# Shuffle the dataset\\ndf_shuffled = df.sample(frac=1, random_state=42).reset_index(drop=True)\\n\\n# Create a list to hold each 20% block\\nblocks = []\\n\\n# Generate the 20% blocks\\nfor i in range(5):\\n    start_index = i * block_size\\n    end_index = (i + 1) * block_size\\n    block = df_shuffled.iloc[start_index:end_index]\\n    blocks.append(block)\\n    # Save each block to a new CSV file\\n    block.to_csv(f'Datasets/dataset_block_{i+1}.csv', index=False, sep=';')\\n\\n# In case the dataset size is not perfectly divisible by 5, add the remaining rows to the last block\\nif end_index < n:\\n    remaining_block = df_shuffled.iloc[end_index:]\\n    remaining_block.to_csv(f'Datasets/dataset_block_6.csv', index=False, sep=';')  \""
      ]
     },
     "execution_count": 67,
     "metadata": {},
     "output_type": "execute_result"
    }
   ],
   "source": [
    "\"\"\" import pandas as pd\n",
    "\n",
    "# Carregar o dataset com delimitador ','\n",
    "df = pd.read_csv('Datasets/total.csv', delimiter=',')\n",
    "\n",
    "# Salvar o dataset com delimitador ';'\n",
    "df.to_csv('Datasets/total.csv', index=False, sep=';')  \"\"\"\n",
    "\n",
    "\"\"\" import pandas as pd\n",
    "\n",
    "# Carregar o dataset com delimitador ';'\n",
    "df = pd.read_csv('Datasets/dataset1.csv', delimiter=';')\n",
    "\n",
    "# Calcular o número de linhas em 20% do dataset\n",
    "n = len(df)\n",
    "block_size = int(n * 0.2)\n",
    "\n",
    "# Shuffle the dataset\n",
    "df_shuffled = df.sample(frac=1, random_state=42).reset_index(drop=True)\n",
    "\n",
    "# Create a list to hold each 20% block\n",
    "blocks = []\n",
    "\n",
    "# Generate the 20% blocks\n",
    "for i in range(5):\n",
    "    start_index = i * block_size\n",
    "    end_index = (i + 1) * block_size\n",
    "    block = df_shuffled.iloc[start_index:end_index]\n",
    "    blocks.append(block)\n",
    "    # Save each block to a new CSV file\n",
    "    block.to_csv(f'Datasets/dataset_block_{i+1}.csv', index=False, sep=';')\n",
    "\n",
    "# In case the dataset size is not perfectly divisible by 5, add the remaining rows to the last block\n",
    "if end_index < n:\n",
    "    remaining_block = df_shuffled.iloc[end_index:]\n",
    "    remaining_block.to_csv(f'Datasets/dataset_block_6.csv', index=False, sep=';')  \"\"\"\n"
   ]
  }
 ],
 "metadata": {
  "kernelspec": {
   "display_name": "Python 3",
   "language": "python",
   "name": "python3"
  },
  "language_info": {
   "codemirror_mode": {
    "name": "ipython",
    "version": 3
   },
   "file_extension": ".py",
   "mimetype": "text/x-python",
   "name": "python",
   "nbconvert_exporter": "python",
   "pygments_lexer": "ipython3",
   "version": "3.12.2"
  }
 },
 "nbformat": 4,
 "nbformat_minor": 2
}
