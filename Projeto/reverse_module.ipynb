{
 "cells": [
  {
   "cell_type": "markdown",
   "metadata": {},
   "source": [
    "# Importações e funções"
   ]
  },
  {
   "cell_type": "code",
   "execution_count": 27,
   "metadata": {
    "jupyter": {
     "is_executing": true
    }
   },
   "outputs": [],
   "source": [
    "import pandas as pd\n",
    "import socket\n",
    "import requests\n",
    "import dns.resolver\n",
    "import time\n",
    "\n",
    "# Função para obter o IP de um domínio\n",
    "def get_ip(domain):\n",
    "    try:\n",
    "        print (socket.gethostbyname(domain))\n",
    "        return socket.gethostbyname(domain)\n",
    "        \n",
    "    except Exception as e:\n",
    "        return None\n",
    "\n",
    "# Função para obter a localização do IP usando a API ipinfo.io\n",
    "def get_location(ip):\n",
    "    if ip:\n",
    "        try:\n",
    "            response = requests.get(f'https://ipinfo.io/{ip}/json?token=b90bb6976ece63')\n",
    "            data = response.json()\n",
    "            print(\"Aqui\",data)\n",
    "            loc = data.get('loc', '').split(',')\n",
    "            latitude = loc[0] if len(loc) > 0 else ''\n",
    "            longitude = loc[1] if len(loc) > 1 else ''\n",
    "            return {\n",
    "                'city': data.get('city', ''),\n",
    "                'region': data.get('region', ''),\n",
    "                'country': data.get('country', ''),\n",
    "                'org': data.get('org', ''),\n",
    "                'postal': data.get('postal', ''),\n",
    "                'timezone': data.get('timezone', ''),\n",
    "                'hostname': data.get('hostname', ''),\n",
    "                'latitude': latitude,\n",
    "                'longitude': longitude,\n",
    "            }\n",
    "        except Exception as e:\n",
    "            return {\n",
    "                'city': '',\n",
    "                'region': '',\n",
    "                'country': '',\n",
    "                'org': '',\n",
    "                'postal': '',\n",
    "                'timezone': '',\n",
    "                'hostname': '',\n",
    "                'latitude': '',\n",
    "                'longitude': '',\n",
    "            }\n",
    "    return {\n",
    "        'city': '',\n",
    "        'region': '',\n",
    "        'country': '',\n",
    "        'org': '',\n",
    "        'postal': '',\n",
    "        'timezone': '',\n",
    "        'hostname': '',\n",
    "        'latitude': '',\n",
    "        'longitude': '',\n",
    "    }\n",
    "\n",
    "# Função para obter o DNS reverso de um IP\n",
    "def get_reverse_dns(ip):\n",
    "    if ip:\n",
    "        try:\n",
    "            return socket.gethostbyaddr(ip)[0]\n",
    "        except Exception as e:\n",
    "            return None\n",
    "    return None\n",
    "\n",
    "# Função para obter o número de registros DNS de um IP\n",
    "def get_dns_count(ip):\n",
    "    if ip:\n",
    "        try:\n",
    "            answers = dns.resolver.resolve(ip, 'A')\n",
    "            return len(answers)\n",
    "        except Exception as e:\n",
    "            return 0\n",
    "    return 0\n",
    "\n",
    "\n",
    "\n",
    "\n"
   ]
  },
  {
   "cell_type": "markdown",
   "metadata": {},
   "source": [
    "# Ler dataset"
   ]
  },
  {
   "cell_type": "code",
   "execution_count": 28,
   "metadata": {},
   "outputs": [],
   "source": [
    "'''\n",
    "Já corridos: \n",
    "    -dataset1_block6\n",
    "\n",
    "A correr:\n",
    "    -teste\n",
    "'''\n",
    "# Carregar o dataset\n",
    "df = pd.read_csv('Datasets/dataset1_block_1.csv', delimiter=';')\n"
   ]
  },
  {
   "cell_type": "markdown",
   "metadata": {},
   "source": [
    "# Linhas em que a label não se encontra preenchida"
   ]
  },
  {
   "cell_type": "code",
   "execution_count": 29,
   "metadata": {},
   "outputs": [
    {
     "name": "stdout",
     "output_type": "stream",
     "text": [
      "label\n",
      "1.0    6\n",
      "0.0    3\n",
      "Name: count, dtype: int64\n"
     ]
    },
    {
     "name": "stderr",
     "output_type": "stream",
     "text": [
      "C:\\Users\\PC\\AppData\\Local\\Temp\\ipykernel_22884\\2910599684.py:2: FutureWarning: A value is trying to be set on a copy of a DataFrame or Series through chained assignment using an inplace method.\n",
      "The behavior will change in pandas 3.0. This inplace method will never work because the intermediate object on which we are setting values always behaves as a copy.\n",
      "\n",
      "For example, when doing 'df[col].method(value, inplace=True)', try using 'df.method({col: value}, inplace=True)' or df[col] = df[col].method(value) instead, to perform the operation inplace on the original object.\n",
      "\n",
      "\n",
      "  df['label'].fillna(-1, inplace=True)\n"
     ]
    }
   ],
   "source": [
    "# Substituir valores vazios na coluna \"label\" por -1\n",
    "df['label'].fillna(-1, inplace=True)\n",
    "\n",
    "# Contar os valores únicos na coluna \"label\"\n",
    "label_counts = df['label'].value_counts()\n",
    "print(label_counts)\n",
    "\n",
    "# Encontrar os índices das linhas com valor -1 na coluna \"label\"\n",
    "indices_to_drop = df[df['label'] == -1].index\n",
    "\n",
    "# Remover as linhas com valor -1 na coluna \"label\"\n",
    "df.drop(indices_to_drop, inplace=True)"
   ]
  },
  {
   "cell_type": "markdown",
   "metadata": {},
   "source": [
    "# Reverse module DNS"
   ]
  },
  {
   "cell_type": "code",
   "execution_count": 30,
   "metadata": {},
   "outputs": [
    {
     "name": "stdout",
     "output_type": "stream",
     "text": [
      "172.67.144.27\n",
      "15.197.148.33\n",
      "208.91.197.132\n",
      "23.36.123.8\n",
      "216.180.158.17\n",
      "173.237.17.220\n",
      "23.227.38.32\n",
      "Aqui {'ip': '172.67.144.27', 'anycast': True, 'city': 'San Francisco', 'region': 'California', 'country': 'US', 'loc': '37.7621,-122.3971', 'org': 'AS13335 Cloudflare, Inc.', 'postal': '94107', 'timezone': 'America/Los_Angeles'}\n",
      "Aqui {'ip': '15.197.148.33', 'hostname': 'a2aa9ff50de748dbe.awsglobalaccelerator.com', 'anycast': True, 'city': 'Seattle', 'region': 'Washington', 'country': 'US', 'loc': '47.6339,-122.3476', 'org': 'AS16509 Amazon.com, Inc.', 'postal': '98109', 'timezone': 'America/Los_Angeles'}\n",
      "Aqui {'ip': '208.91.197.132', 'city': 'Newark', 'region': 'New Jersey', 'country': 'US', 'loc': '40.7357,-74.1724', 'org': 'AS40034 Confluence Networks Inc', 'postal': '07102', 'timezone': 'America/New_York'}\n",
      "Aqui {'ip': '23.36.123.8', 'hostname': 'a23-36-123-8.deploy.static.akamaitechnologies.com', 'city': 'Madrid', 'region': 'Madrid', 'country': 'ES', 'loc': '40.4165,-3.7026', 'org': 'AS16625 Akamai Technologies, Inc.', 'postal': '28004', 'timezone': 'Europe/Madrid'}\n",
      "Aqui {'ip': '216.180.158.17', 'hostname': 'hwypl101.hiwaay.net', 'city': 'New York City', 'region': 'New York', 'country': 'US', 'loc': '40.7143,-74.0060', 'org': 'AS395532 Web Site Source', 'postal': '10001', 'timezone': 'America/New_York'}\n",
      "Aqui {'ip': '173.237.17.220', 'hostname': 'godubai.com', 'city': 'Dallas', 'region': 'Texas', 'country': 'US', 'loc': '32.7831,-96.8067', 'org': 'AS7979 Servers.com, Inc.', 'postal': '75201', 'timezone': 'America/Chicago'}\n",
      "Aqui {'ip': '23.227.38.32', 'hostname': 'myshopify.com', 'anycast': True, 'city': 'Ottawa', 'region': 'Ontario', 'country': 'CA', 'loc': '45.4166,-75.6904', 'org': 'AS13335 Cloudflare, Inc.', 'postal': 'K2P', 'timezone': 'America/Toronto'}\n",
      "                             URL  URLLength                 Domain  \\\n",
      "0       https://www.dualchas.com       23.0       www.dualchas.com   \n",
      "1     http://www.munteanuion.com       25.0    www.munteanuion.com   \n",
      "2   https://www.brinklindsey.com       27.0   www.brinklindsey.com   \n",
      "3          https://www.arrow.com       20.0          www.arrow.com   \n",
      "4  https://www.colbertcounty.org       28.0  www.colbertcounty.org   \n",
      "\n",
      "   DomainLength  IsDomainIP  TLD  URLSimilarityIndex  CharContinuationRate  \\\n",
      "0          16.0         0.0  com          100.000000                   1.0   \n",
      "1          19.0         0.0  com           67.222222                   1.0   \n",
      "2          20.0         0.0  com          100.000000                   1.0   \n",
      "3          13.0         0.0  com          100.000000                   1.0   \n",
      "4          21.0         0.0  org          100.000000                   1.0   \n",
      "\n",
      "   TLDLegitimateProb  URLCharProb  ...  n_dns           City      Region  \\\n",
      "0           0.522907     0.059541  ...    0.0  San Francisco  California   \n",
      "1           0.522907     0.066551  ...    0.0        Seattle  Washington   \n",
      "2           0.522907     0.053539  ...    0.0         Newark  New Jersey   \n",
      "3           0.522907     0.070600  ...    0.0         Madrid      Madrid   \n",
      "4           0.079963     0.063023  ...    0.0  New York City    New York   \n",
      "\n",
      "   Country                                Org  Postal             Timezone  \\\n",
      "0       US           AS13335 Cloudflare, Inc.   94107  America/Los_Angeles   \n",
      "1       US           AS16509 Amazon.com, Inc.   98109  America/Los_Angeles   \n",
      "2       US    AS40034 Confluence Networks Inc   07102     America/New_York   \n",
      "3       ES  AS16625 Akamai Technologies, Inc.   28004        Europe/Madrid   \n",
      "4       US           AS395532 Web Site Source   10001     America/New_York   \n",
      "\n",
      "                                            Hostname  Latitude  Longitude  \n",
      "0                                                      37.7621  -122.3971  \n",
      "1         a2aa9ff50de748dbe.awsglobalaccelerator.com   47.6339  -122.3476  \n",
      "2                                                      40.7357   -74.1724  \n",
      "3  a23-36-123-8.deploy.static.akamaitechnologies.com   40.4165    -3.7026  \n",
      "4                                hwypl101.hiwaay.net   40.7143   -74.0060  \n",
      "\n",
      "[5 rows x 68 columns]\n"
     ]
    },
    {
     "name": "stderr",
     "output_type": "stream",
     "text": [
      "C:\\Users\\PC\\AppData\\Local\\Temp\\ipykernel_22884\\2825357388.py:25: FutureWarning: Setting an item of incompatible dtype is deprecated and will raise an error in a future version of pandas. Value '['172.67.144.27' '15.197.148.33' '208.91.197.132' '23.36.123.8'\n",
      " '216.180.158.17' '173.237.17.220' None None '23.227.38.32']' has dtype incompatible with float64, please explicitly cast to a compatible dtype first.\n",
      "  df.iloc[i:i+100] = chunk\n",
      "C:\\Users\\PC\\AppData\\Local\\Temp\\ipykernel_22884\\2825357388.py:25: FutureWarning: Setting an item of incompatible dtype is deprecated and will raise an error in a future version of pandas. Value '['www.dualchas.com' 'www.munteanuion.com' 'www.brinklindsey.com'\n",
      " 'www.arrow.com' 'www.colbertcounty.org' 'www.godubai.com'\n",
      " 'atmailll.boxmode.io/' '15jgrehsbbg.ru/77e21' 'www.octopuces.fr']' has dtype incompatible with float64, please explicitly cast to a compatible dtype first.\n",
      "  df.iloc[i:i+100] = chunk\n",
      "C:\\Users\\PC\\AppData\\Local\\Temp\\ipykernel_22884\\2825357388.py:25: FutureWarning: Setting an item of incompatible dtype is deprecated and will raise an error in a future version of pandas. Value '[None 'a2aa9ff50de748dbe.awsglobalaccelerator.com' None\n",
      " 'a23-36-123-8.deploy.static.akamaitechnologies.com' 'hwypl101.hiwaay.net'\n",
      " 'godubai.com' None None 'myshopify.com']' has dtype incompatible with float64, please explicitly cast to a compatible dtype first.\n",
      "  df.iloc[i:i+100] = chunk\n",
      "C:\\Users\\PC\\AppData\\Local\\Temp\\ipykernel_22884\\2825357388.py:25: FutureWarning: Setting an item of incompatible dtype is deprecated and will raise an error in a future version of pandas. Value '['San Francisco' 'Seattle' 'Newark' 'Madrid' 'New York City' 'Dallas' ''\n",
      " '' 'Ottawa']' has dtype incompatible with float64, please explicitly cast to a compatible dtype first.\n",
      "  df.iloc[i:i+100] = chunk\n",
      "C:\\Users\\PC\\AppData\\Local\\Temp\\ipykernel_22884\\2825357388.py:25: FutureWarning: Setting an item of incompatible dtype is deprecated and will raise an error in a future version of pandas. Value '['California' 'Washington' 'New Jersey' 'Madrid' 'New York' 'Texas' '' ''\n",
      " 'Ontario']' has dtype incompatible with float64, please explicitly cast to a compatible dtype first.\n",
      "  df.iloc[i:i+100] = chunk\n",
      "C:\\Users\\PC\\AppData\\Local\\Temp\\ipykernel_22884\\2825357388.py:25: FutureWarning: Setting an item of incompatible dtype is deprecated and will raise an error in a future version of pandas. Value '['US' 'US' 'US' 'ES' 'US' 'US' '' '' 'CA']' has dtype incompatible with float64, please explicitly cast to a compatible dtype first.\n",
      "  df.iloc[i:i+100] = chunk\n",
      "C:\\Users\\PC\\AppData\\Local\\Temp\\ipykernel_22884\\2825357388.py:25: FutureWarning: Setting an item of incompatible dtype is deprecated and will raise an error in a future version of pandas. Value '['AS13335 Cloudflare, Inc.' 'AS16509 Amazon.com, Inc.'\n",
      " 'AS40034 Confluence Networks Inc' 'AS16625 Akamai Technologies, Inc.'\n",
      " 'AS395532 Web Site Source' 'AS7979 Servers.com, Inc.' '' ''\n",
      " 'AS13335 Cloudflare, Inc.']' has dtype incompatible with float64, please explicitly cast to a compatible dtype first.\n",
      "  df.iloc[i:i+100] = chunk\n",
      "C:\\Users\\PC\\AppData\\Local\\Temp\\ipykernel_22884\\2825357388.py:25: FutureWarning: Setting an item of incompatible dtype is deprecated and will raise an error in a future version of pandas. Value '['94107' '98109' '07102' '28004' '10001' '75201' '' '' 'K2P']' has dtype incompatible with float64, please explicitly cast to a compatible dtype first.\n",
      "  df.iloc[i:i+100] = chunk\n",
      "C:\\Users\\PC\\AppData\\Local\\Temp\\ipykernel_22884\\2825357388.py:25: FutureWarning: Setting an item of incompatible dtype is deprecated and will raise an error in a future version of pandas. Value '['America/Los_Angeles' 'America/Los_Angeles' 'America/New_York'\n",
      " 'Europe/Madrid' 'America/New_York' 'America/Chicago' '' ''\n",
      " 'America/Toronto']' has dtype incompatible with float64, please explicitly cast to a compatible dtype first.\n",
      "  df.iloc[i:i+100] = chunk\n",
      "C:\\Users\\PC\\AppData\\Local\\Temp\\ipykernel_22884\\2825357388.py:25: FutureWarning: Setting an item of incompatible dtype is deprecated and will raise an error in a future version of pandas. Value '['' 'a2aa9ff50de748dbe.awsglobalaccelerator.com' ''\n",
      " 'a23-36-123-8.deploy.static.akamaitechnologies.com' 'hwypl101.hiwaay.net'\n",
      " 'godubai.com' '' '' 'myshopify.com']' has dtype incompatible with float64, please explicitly cast to a compatible dtype first.\n",
      "  df.iloc[i:i+100] = chunk\n",
      "C:\\Users\\PC\\AppData\\Local\\Temp\\ipykernel_22884\\2825357388.py:25: FutureWarning: Setting an item of incompatible dtype is deprecated and will raise an error in a future version of pandas. Value '['37.7621' '47.6339' '40.7357' '40.4165' '40.7143' '32.7831' '' ''\n",
      " '45.4166']' has dtype incompatible with float64, please explicitly cast to a compatible dtype first.\n",
      "  df.iloc[i:i+100] = chunk\n",
      "C:\\Users\\PC\\AppData\\Local\\Temp\\ipykernel_22884\\2825357388.py:25: FutureWarning: Setting an item of incompatible dtype is deprecated and will raise an error in a future version of pandas. Value '['-122.3971' '-122.3476' '-74.1724' '-3.7026' '-74.0060' '-96.8067' '' ''\n",
      " '-75.6904']' has dtype incompatible with float64, please explicitly cast to a compatible dtype first.\n",
      "  df.iloc[i:i+100] = chunk\n"
     ]
    }
   ],
   "source": [
    "# Adicionar contador para pausar a cada 100 registros\n",
    "for i in range(0, len(df), 100):\n",
    "    # Processar blocos de 100 registros\n",
    "    chunk = df.iloc[i:i+100]\n",
    "\n",
    "    # Adicionar colunas para armazenar IP, DNS, Reverse DNS e número de DNS\n",
    "    chunk['IP'] = chunk['URL'].apply(lambda url: get_ip(url.split('//')[1]))\n",
    "    chunk['DNS'] = chunk['URL'].apply(lambda url: url.split('//')[1])\n",
    "    chunk['Reverse DNS'] = chunk['IP'].apply(get_reverse_dns)\n",
    "    chunk['n_dns'] = chunk['IP'].apply(get_dns_count)\n",
    "\n",
    "    # Obter informações de localização e adicionar colunas separadas\n",
    "    location_data = chunk['IP'].apply(get_location)\n",
    "    chunk['City'] = location_data.apply(lambda loc: loc['city'])\n",
    "    chunk['Region'] = location_data.apply(lambda loc: loc['region'])\n",
    "    chunk['Country'] = location_data.apply(lambda loc: loc['country'])\n",
    "    chunk['Org'] = location_data.apply(lambda loc: loc['org'])\n",
    "    chunk['Postal'] = location_data.apply(lambda loc: loc['postal'])\n",
    "    chunk['Timezone'] = location_data.apply(lambda loc: loc['timezone'])\n",
    "    chunk['Hostname'] = location_data.apply(lambda loc: loc['hostname'])\n",
    "    chunk['Latitude'] = location_data.apply(lambda loc: loc['latitude'])\n",
    "    chunk['Longitude'] = location_data.apply(lambda loc: loc['longitude'])\n",
    "\n",
    "    # Juntar o chunk ao DataFrame original\n",
    "    df.iloc[i:i+100] = chunk\n",
    "\n",
    "    if i > 0 and i % 100 == 0:\n",
    "        print(f\"Processed {i} records. Sleeping for 60 seconds...\")\n",
    "        time.sleep(60)\n",
    "\n",
    "\n",
    "# Removing unnamed columns using drop function\n",
    "df.drop(df.columns[df.columns.str.contains('Unnamed', case=False)], axis=1, inplace=True)\n",
    "\n",
    "# Salvar o resultado em um novo arquivo CSV\n",
    "df.to_csv('dataset1_block_1_reverse_dns.csv', index=False,sep=';')\n",
    "\n",
    "# Exibir o DataFrame\n",
    "print(df.head())"
   ]
  },
  {
   "cell_type": "markdown",
   "metadata": {},
   "source": [
    "### Código que não é usado"
   ]
  },
  {
   "cell_type": "code",
   "execution_count": 31,
   "metadata": {},
   "outputs": [
    {
     "data": {
      "text/plain": [
       "\" import pandas as pd\\nfrom sklearn.model_selection import train_test_split\\n\\n# Carregar o dataset\\ndf = pd.read_csv('PhishingDataset.csv', delimiter='')\\n\\n# Converter todas as colunas para strings\\ndf = df.astype(str)\\n\\n# Dividir o dataset em dois novos datasets (50% e 50%)\\ndf1, df2 = train_test_split(df, test_size=0.5, random_state=42)\\n\\n# Salvar os dois novos datasets em arquivos CSV separados\\ndf1.to_csv('dataset1.csv', index=False,sep=';')\\ndf2.to_csv('dataset2.csv', index=False,sep=';') \""
      ]
     },
     "execution_count": 31,
     "metadata": {},
     "output_type": "execute_result"
    }
   ],
   "source": [
    "\"\"\" import pandas as pd\n",
    "from sklearn.model_selection import train_test_split\n",
    "\n",
    "# Carregar o dataset\n",
    "df = pd.read_csv('PhishingDataset.csv', delimiter='')\n",
    "\n",
    "# Converter todas as colunas para strings\n",
    "df = df.astype(str)\n",
    "\n",
    "# Dividir o dataset em dois novos datasets (50% e 50%)\n",
    "df1, df2 = train_test_split(df, test_size=0.5, random_state=42)\n",
    "\n",
    "# Salvar os dois novos datasets em arquivos CSV separados\n",
    "df1.to_csv('dataset1.csv', index=False,sep=';')\n",
    "df2.to_csv('dataset2.csv', index=False,sep=';') \"\"\"\n"
   ]
  },
  {
   "cell_type": "code",
   "execution_count": 32,
   "metadata": {},
   "outputs": [
    {
     "data": {
      "text/plain": [
       "\" import pandas as pd\\n\\n# Carregar o dataset com delimitador ';'\\ndf = pd.read_csv('Datasets/dataset1.csv', delimiter=';')\\n\\n# Calcular o número de linhas em 20% do dataset\\nn = len(df)\\nblock_size = int(n * 0.2)\\n\\n# Shuffle the dataset\\ndf_shuffled = df.sample(frac=1, random_state=42).reset_index(drop=True)\\n\\n# Create a list to hold each 20% block\\nblocks = []\\n\\n# Generate the 20% blocks\\nfor i in range(5):\\n    start_index = i * block_size\\n    end_index = (i + 1) * block_size\\n    block = df_shuffled.iloc[start_index:end_index]\\n    blocks.append(block)\\n    # Save each block to a new CSV file\\n    block.to_csv(f'Datasets/dataset_block_{i+1}.csv', index=False, sep=';')\\n\\n# In case the dataset size is not perfectly divisible by 5, add the remaining rows to the last block\\nif end_index < n:\\n    remaining_block = df_shuffled.iloc[end_index:]\\n    remaining_block.to_csv(f'Datasets/dataset_block_6.csv', index=False, sep=';')  \""
      ]
     },
     "execution_count": 32,
     "metadata": {},
     "output_type": "execute_result"
    }
   ],
   "source": [
    "\"\"\" import pandas as pd\n",
    "\n",
    "# Carregar o dataset com delimitador ','\n",
    "df = pd.read_csv('Datasets/total.csv', delimiter=',')\n",
    "\n",
    "# Salvar o dataset com delimitador ';'\n",
    "df.to_csv('Datasets/total.csv', index=False, sep=';')  \"\"\"\n",
    "\n",
    "\"\"\" import pandas as pd\n",
    "\n",
    "# Carregar o dataset com delimitador ';'\n",
    "df = pd.read_csv('Datasets/dataset1.csv', delimiter=';')\n",
    "\n",
    "# Calcular o número de linhas em 20% do dataset\n",
    "n = len(df)\n",
    "block_size = int(n * 0.2)\n",
    "\n",
    "# Shuffle the dataset\n",
    "df_shuffled = df.sample(frac=1, random_state=42).reset_index(drop=True)\n",
    "\n",
    "# Create a list to hold each 20% block\n",
    "blocks = []\n",
    "\n",
    "# Generate the 20% blocks\n",
    "for i in range(5):\n",
    "    start_index = i * block_size\n",
    "    end_index = (i + 1) * block_size\n",
    "    block = df_shuffled.iloc[start_index:end_index]\n",
    "    blocks.append(block)\n",
    "    # Save each block to a new CSV file\n",
    "    block.to_csv(f'Datasets/dataset_block_{i+1}.csv', index=False, sep=';')\n",
    "\n",
    "# In case the dataset size is not perfectly divisible by 5, add the remaining rows to the last block\n",
    "if end_index < n:\n",
    "    remaining_block = df_shuffled.iloc[end_index:]\n",
    "    remaining_block.to_csv(f'Datasets/dataset_block_6.csv', index=False, sep=';')  \"\"\"\n"
   ]
  }
 ],
 "metadata": {
  "kernelspec": {
   "display_name": "Python 3",
   "language": "python",
   "name": "python3"
  },
  "language_info": {
   "codemirror_mode": {
    "name": "ipython",
    "version": 3
   },
   "file_extension": ".py",
   "mimetype": "text/x-python",
   "name": "python",
   "nbconvert_exporter": "python",
   "pygments_lexer": "ipython3",
   "version": "3.12.1"
  }
 },
 "nbformat": 4,
 "nbformat_minor": 2
}
