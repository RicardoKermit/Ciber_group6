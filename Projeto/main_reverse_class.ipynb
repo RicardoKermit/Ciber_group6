{
 "cells": [
  {
   "cell_type": "code",
   "metadata": {
    "ExecuteTime": {
     "end_time": "2024-05-28T02:09:27.767189Z",
     "start_time": "2024-05-28T02:09:27.762504Z"
    }
   },
   "source": [],
   "outputs": [],
   "execution_count": null
  },
  {
   "cell_type": "code",
   "metadata": {
    "ExecuteTime": {
     "end_time": "2024-05-28T02:09:30.226547Z",
     "start_time": "2024-05-28T02:09:27.782834Z"
    }
   },
   "source": [
    "# Importar bibliotecas\n",
    "import pandas as pd\n",
    "import socket\n",
    "from dns import resolver\n",
    "from ipwhois import IPWhois\n",
    "from geopy.geocoders import Nominatim\n",
    "\n",
    "# Função para obter DNS a partir da URL\n",
    "def get_dns_from_url(url):\n",
    "    domain = url.split('//')[-1].split('/')[0]\n",
    "    try:\n",
    "        answers = resolver.resolve(domain, 'A')\n",
    "        ips = [str(rdata) for rdata in answers]\n",
    "        return ips\n",
    "    except Exception as e:\n",
    "        return str(e)\n",
    "\n",
    "# Função para obter informações do IP\n",
    "def get_ip_info(ip):\n",
    "    try:\n",
    "        obj = IPWhois(ip)\n",
    "        results = obj.lookup_rdap(asn_methods=[\"whois\", \"http\"])\n",
    "        return results\n",
    "    except Exception as e:\n",
    "        return str(e)\n",
    "\n",
    "# Função para obter informações geográficas do IP\n",
    "def get_geolocation(ip):\n",
    "    try:\n",
    "        geolocator = Nominatim(user_agent=\"geoapiExercises\")\n",
    "        location = geolocator.geocode(ip)\n",
    "        if location:\n",
    "            return location.address\n",
    "        else:\n",
    "            return \"Location not found\"\n",
    "    except Exception as e:\n",
    "        return str(e)\n",
    "\n",
    "# Ler o dataset\n",
    "data_url = 'PhishingDataset_copy.csv'  # Substitua pelo caminho do seu dataset\n",
    "df = pd.read_csv(data_url, delimiter=';', header=0, encoding='utf-8')\n",
    "\n",
    "# Inicializar colunas para os resultados\n",
    "df['DNS'] = None\n",
    "df['IP'] = None\n",
    "df['ASN'] = None\n",
    "df['GeoLocation'] = None\n",
    "\n",
    "# Iterar sobre as URLs no dataset e obter as informações necessárias\n",
    "for index, row in df.iterrows():\n",
    "    url = row['URL']\n",
    "    \n",
    "    # Obter DNS e IP\n",
    "    dns_ips = get_dns_from_url(url)\n",
    "    if isinstance(dns_ips, list) and dns_ips:\n",
    "        ip = dns_ips[0]  # Pegar o primeiro IP da lista\n",
    "        df.at[index, 'DNS'] = \", \".join(dns_ips)\n",
    "        df.at[index, 'IP'] = ip\n",
    "\n",
    "        # Obter informações do IP\n",
    "        ip_info = get_ip_info(ip)\n",
    "        df.at[index, 'ASN'] = ip_info.get('asn', 'N/A')\n",
    "        \n",
    "        # Obter localização geográfica\n",
    "        geo_info = get_geolocation(ip)\n",
    "        df.at[index, 'GeoLocation'] = geo_info\n",
    "    else:\n",
    "        df.at[index, 'DNS'] = dns_ips  # Erro ou mensagem de falha\n",
    "\n",
    "# Mostrar as primeiras linhas do DataFrame atualizado\n",
    "print(df[['URL', 'DNS', 'IP', 'ASN', 'GeoLocation']].head())\n",
    "\n",
    "# Imprimir todas as informações\n",
    "for index, row in df.iterrows():\n",
    "    print(f\"URL: {row['URL']}\")\n",
    "    print(f\"DNS: {row['DNS']}\")\n",
    "    print(f\"IP: {row['IP']}\")\n",
    "    print(f\"ASN: {row['ASN']}\")\n",
    "    print(f\"GeoLocation: {row['GeoLocation']}\")\n",
    "    print(\"-\" * 40)\n"
   ],
   "outputs": [
    {
     "ename": "ModuleNotFoundError",
     "evalue": "No module named 'dns'",
     "output_type": "error",
     "traceback": [
      "\u001B[1;31m---------------------------------------------------------------------------\u001B[0m",
      "\u001B[1;31mModuleNotFoundError\u001B[0m                       Traceback (most recent call last)",
      "Cell \u001B[1;32mIn[1], line 4\u001B[0m\n\u001B[0;32m      2\u001B[0m \u001B[38;5;28;01mimport\u001B[39;00m \u001B[38;5;21;01mpandas\u001B[39;00m \u001B[38;5;28;01mas\u001B[39;00m \u001B[38;5;21;01mpd\u001B[39;00m\n\u001B[0;32m      3\u001B[0m \u001B[38;5;28;01mimport\u001B[39;00m \u001B[38;5;21;01msocket\u001B[39;00m\n\u001B[1;32m----> 4\u001B[0m \u001B[38;5;28;01mfrom\u001B[39;00m \u001B[38;5;21;01mdns\u001B[39;00m \u001B[38;5;28;01mimport\u001B[39;00m resolver\n\u001B[0;32m      5\u001B[0m \u001B[38;5;28;01mfrom\u001B[39;00m \u001B[38;5;21;01mipwhois\u001B[39;00m \u001B[38;5;28;01mimport\u001B[39;00m IPWhois\n\u001B[0;32m      6\u001B[0m \u001B[38;5;28;01mfrom\u001B[39;00m \u001B[38;5;21;01mgeopy\u001B[39;00m\u001B[38;5;21;01m.\u001B[39;00m\u001B[38;5;21;01mgeocoders\u001B[39;00m \u001B[38;5;28;01mimport\u001B[39;00m Nominatim\n",
      "\u001B[1;31mModuleNotFoundError\u001B[0m: No module named 'dns'"
     ]
    }
   ],
   "execution_count": 1
  }
 ],
 "metadata": {
  "kernelspec": {
   "display_name": "Python 3",
   "language": "python",
   "name": "python3"
  },
  "language_info": {
   "codemirror_mode": {
    "name": "ipython",
    "version": 3
   },
   "file_extension": ".py",
   "mimetype": "text/x-python",
   "name": "python",
   "nbconvert_exporter": "python",
   "pygments_lexer": "ipython3",
   "version": "3.11.2"
  }
 },
 "nbformat": 4,
 "nbformat_minor": 2
}
